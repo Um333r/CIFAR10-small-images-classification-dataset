{
  "nbformat": 4,
  "nbformat_minor": 0,
  "metadata": {
    "colab": {
      "provenance": [],
      "authorship_tag": "ABX9TyMtJ5Qnci1asgecYmKP0tgt",
      "include_colab_link": true
    },
    "kernelspec": {
      "name": "python3",
      "display_name": "Python 3"
    },
    "language_info": {
      "name": "python"
    }
  },
  "cells": [
    {
      "cell_type": "markdown",
      "metadata": {
        "id": "view-in-github",
        "colab_type": "text"
      },
      "source": [
        "<a href=\"https://colab.research.google.com/github/Um333r/CIFAR10-small-images-classification-dataset/blob/master/CIFAR10_small_images_classification_dataset.ipynb\" target=\"_parent\"><img src=\"https://colab.research.google.com/assets/colab-badge.svg\" alt=\"Open In Colab\"/></a>"
      ]
    },
    {
      "cell_type": "code",
      "execution_count": 3,
      "metadata": {
        "id": "MWFpPzCHt4CN"
      },
      "outputs": [],
      "source": [
        "import tensorflow as tf\n",
        "from tensorflow import keras \n",
        "import matplotlib.pyplot as plt\n",
        "import numpy as np \n",
        "\n",
        "#version Information\n",
        "# tensorflow 2.2.0, cudnn7.6.5 and cuda 10.1, python3.8"
      ]
    },
    {
      "cell_type": "code",
      "source": [
        "tf.config.experimental.list_physical_devices()"
      ],
      "metadata": {
        "colab": {
          "base_uri": "https://localhost:8080/"
        },
        "id": "YJUBqdy_vZyd",
        "outputId": "8dd4b4b7-271d-4414-92a1-969a937312da"
      },
      "execution_count": 5,
      "outputs": [
        {
          "output_type": "execute_result",
          "data": {
            "text/plain": [
              "[PhysicalDevice(name='/physical_device:CPU:0', device_type='CPU')]"
            ]
          },
          "metadata": {},
          "execution_count": 5
        }
      ]
    },
    {
      "cell_type": "code",
      "source": [
        "tf.test.is_built_with_cuda()"
      ],
      "metadata": {
        "colab": {
          "base_uri": "https://localhost:8080/"
        },
        "id": "ZcsngWXt3udw",
        "outputId": "696ff0b8-981a-4e62-96e3-37d694cb1817"
      },
      "execution_count": 6,
      "outputs": [
        {
          "output_type": "execute_result",
          "data": {
            "text/plain": [
              "True"
            ]
          },
          "metadata": {},
          "execution_count": 6
        }
      ]
    },
    {
      "cell_type": "code",
      "source": [
        "(X_train,y_train),(X_test,y_test) = tf.keras.datasets.cifar10.load_data()"
      ],
      "metadata": {
        "colab": {
          "base_uri": "https://localhost:8080/"
        },
        "id": "WhGggtkP476s",
        "outputId": "0d1a53a4-81ce-4dec-cbf3-3ca72029f73b"
      },
      "execution_count": 7,
      "outputs": [
        {
          "output_type": "stream",
          "name": "stdout",
          "text": [
            "Downloading data from https://www.cs.toronto.edu/~kriz/cifar-10-python.tar.gz\n",
            "170498071/170498071 [==============================] - 4s 0us/step\n"
          ]
        }
      ]
    },
    {
      "cell_type": "markdown",
      "source": [
        "**Data Visualization**"
      ],
      "metadata": {
        "id": "5ce1T-G4Nk8j"
      }
    },
    {
      "cell_type": "code",
      "source": [
        "X_train.shape"
      ],
      "metadata": {
        "colab": {
          "base_uri": "https://localhost:8080/"
        },
        "id": "jMStaieA6UtH",
        "outputId": "8144d466-9931-4d47-aee9-f66a91766b61"
      },
      "execution_count": 8,
      "outputs": [
        {
          "output_type": "execute_result",
          "data": {
            "text/plain": [
              "(50000, 32, 32, 3)"
            ]
          },
          "metadata": {},
          "execution_count": 8
        }
      ]
    },
    {
      "cell_type": "code",
      "source": [
        "X_train[0]"
      ],
      "metadata": {
        "colab": {
          "base_uri": "https://localhost:8080/"
        },
        "id": "s-cksA2i6fwx",
        "outputId": "78aca0f3-c9bb-4f1d-bb0e-b3b2e960a586"
      },
      "execution_count": 11,
      "outputs": [
        {
          "output_type": "execute_result",
          "data": {
            "text/plain": [
              "array([[[ 59,  62,  63],\n",
              "        [ 43,  46,  45],\n",
              "        [ 50,  48,  43],\n",
              "        ...,\n",
              "        [158, 132, 108],\n",
              "        [152, 125, 102],\n",
              "        [148, 124, 103]],\n",
              "\n",
              "       [[ 16,  20,  20],\n",
              "        [  0,   0,   0],\n",
              "        [ 18,   8,   0],\n",
              "        ...,\n",
              "        [123,  88,  55],\n",
              "        [119,  83,  50],\n",
              "        [122,  87,  57]],\n",
              "\n",
              "       [[ 25,  24,  21],\n",
              "        [ 16,   7,   0],\n",
              "        [ 49,  27,   8],\n",
              "        ...,\n",
              "        [118,  84,  50],\n",
              "        [120,  84,  50],\n",
              "        [109,  73,  42]],\n",
              "\n",
              "       ...,\n",
              "\n",
              "       [[208, 170,  96],\n",
              "        [201, 153,  34],\n",
              "        [198, 161,  26],\n",
              "        ...,\n",
              "        [160, 133,  70],\n",
              "        [ 56,  31,   7],\n",
              "        [ 53,  34,  20]],\n",
              "\n",
              "       [[180, 139,  96],\n",
              "        [173, 123,  42],\n",
              "        [186, 144,  30],\n",
              "        ...,\n",
              "        [184, 148,  94],\n",
              "        [ 97,  62,  34],\n",
              "        [ 83,  53,  34]],\n",
              "\n",
              "       [[177, 144, 116],\n",
              "        [168, 129,  94],\n",
              "        [179, 142,  87],\n",
              "        ...,\n",
              "        [216, 184, 140],\n",
              "        [151, 118,  84],\n",
              "        [123,  92,  72]]], dtype=uint8)"
            ]
          },
          "metadata": {},
          "execution_count": 11
        }
      ]
    },
    {
      "cell_type": "code",
      "source": [
        "X_train[0].shape"
      ],
      "metadata": {
        "colab": {
          "base_uri": "https://localhost:8080/"
        },
        "id": "qi6a1obELN5I",
        "outputId": "f2fea9ae-8ba7-49c9-c9f2-8db735d3cebf"
      },
      "execution_count": 12,
      "outputs": [
        {
          "output_type": "execute_result",
          "data": {
            "text/plain": [
              "(32, 32, 3)"
            ]
          },
          "metadata": {},
          "execution_count": 12
        }
      ]
    },
    {
      "cell_type": "code",
      "source": [
        "y_train.shape"
      ],
      "metadata": {
        "colab": {
          "base_uri": "https://localhost:8080/"
        },
        "id": "6bu3eq_ALj2Q",
        "outputId": "e793ebb5-3707-4850-ef76-4cc8cd868e21"
      },
      "execution_count": 13,
      "outputs": [
        {
          "output_type": "execute_result",
          "data": {
            "text/plain": [
              "(50000, 1)"
            ]
          },
          "metadata": {},
          "execution_count": 13
        }
      ]
    },
    {
      "cell_type": "code",
      "source": [
        "y_train[0:5]"
      ],
      "metadata": {
        "colab": {
          "base_uri": "https://localhost:8080/"
        },
        "id": "TrUYSWTxLsqk",
        "outputId": "1dbf87fa-b904-44b7-ff8b-2574ec1b71db"
      },
      "execution_count": 14,
      "outputs": [
        {
          "output_type": "execute_result",
          "data": {
            "text/plain": [
              "array([[6],\n",
              "       [9],\n",
              "       [9],\n",
              "       [4],\n",
              "       [1]], dtype=uint8)"
            ]
          },
          "metadata": {},
          "execution_count": 14
        }
      ]
    },
    {
      "cell_type": "code",
      "source": [
        "#let's verify"
      ],
      "metadata": {
        "id": "Oro3-ylnLwz2"
      },
      "execution_count": 15,
      "outputs": []
    },
    {
      "cell_type": "code",
      "source": [
        "def plot_sample(index):\n",
        "  plt.figure(figsize=(10,1))\n",
        "  plt.imshow(X_train[index])"
      ],
      "metadata": {
        "id": "1yJiXQG8L3mi"
      },
      "execution_count": 16,
      "outputs": []
    },
    {
      "cell_type": "code",
      "source": [
        "plot_sample(0)"
      ],
      "metadata": {
        "colab": {
          "base_uri": "https://localhost:8080/",
          "height": 105
        },
        "id": "DqeUaIgFMJiv",
        "outputId": "15d2e676-8118-4c76-e5ca-a3dda3a2c772"
      },
      "execution_count": 18,
      "outputs": [
        {
          "output_type": "display_data",
          "data": {
            "text/plain": [
              "<Figure size 720x72 with 1 Axes>"
            ],
            "image/png": "[encoded data removed]"
          },
          "metadata": {
            "needs_background": "light"
          }
        }
      ]
    },
    {
      "cell_type": "code",
      "source": [
        "plot_sample(1)"
      ],
      "metadata": {
        "colab": {
          "base_uri": "https://localhost:8080/",
          "height": 105
        },
        "id": "FxgowzpaMMxF",
        "outputId": "ba8e32ca-3581-4bcc-83cc-2dc6d8f8b336"
      },
      "execution_count": 19,
      "outputs": [
        {
          "output_type": "display_data",
          "data": {
            "text/plain": [
              "<Figure size 720x72 with 1 Axes>"
            ],
            "image/png": "[encoded data removed]"
          },
          "metadata": {
            "needs_background": "light"
          }
        }
      ]
    },
    {
      "cell_type": "code",
      "source": [
        "classes = [\"airplane\",\"automobile\",\"bird\",\"cat\",\"deer\",\"dog\",\"frog\",\"horse\",\"ship\",\"truck\"]"
      ],
      "metadata": {
        "id": "EsRde3iMMT7X"
      },
      "execution_count": 23,
      "outputs": []
    },
    {
      "cell_type": "code",
      "source": [
        "plot_sample(3)"
      ],
      "metadata": {
        "colab": {
          "base_uri": "https://localhost:8080/",
          "height": 105
        },
        "id": "GkbbiAA6M-ni",
        "outputId": "2484e0cb-d0a9-443a-cf9e-3eacd393953c"
      },
      "execution_count": 21,
      "outputs": [
        {
          "output_type": "display_data",
          "data": {
            "text/plain": [
              "<Figure size 720x72 with 1 Axes>"
            ],
            "image/png": "[encoded data removed]"
          },
          "metadata": {
            "needs_background": "light"
          }
        }
      ]
    },
    {
      "cell_type": "code",
      "source": [
        "classes[y_train[3][0]]"
      ],
      "metadata": {
        "colab": {
          "base_uri": "https://localhost:8080/",
          "height": 35
        },
        "id": "pUeK5TDTNB9W",
        "outputId": "79002d07-1543-4597-c47f-6cdf637dd03e"
      },
      "execution_count": 24,
      "outputs": [
        {
          "output_type": "execute_result",
          "data": {
            "text/plain": [
              "'deer'"
            ],
            "application/vnd.google.colaboratory.intrinsic+json": {
              "type": "string"
            }
          },
          "metadata": {},
          "execution_count": 24
        }
      ]
    },
    {
      "cell_type": "markdown",
      "source": [
        "**Scaling the images**"
      ],
      "metadata": {
        "id": "B9T2SXPiNuxJ"
      }
    },
    {
      "cell_type": "code",
      "source": [
        "X_train_scaled = X_train/255\n",
        "X_test_scaled = X_test/255"
      ],
      "metadata": {
        "id": "5gPsuE9fNKsc"
      },
      "execution_count": 26,
      "outputs": []
    },
    {
      "cell_type": "code",
      "source": [
        "X_train_scaled.shape"
      ],
      "metadata": {
        "colab": {
          "base_uri": "https://localhost:8080/"
        },
        "id": "QgJfiPSGP8E7",
        "outputId": "0231b665-140c-43ec-8edb-368c454c685e"
      },
      "execution_count": 27,
      "outputs": [
        {
          "output_type": "execute_result",
          "data": {
            "text/plain": [
              "(50000, 32, 32, 3)"
            ]
          },
          "metadata": {},
          "execution_count": 27
        }
      ]
    },
    {
      "cell_type": "code",
      "source": [
        "y_train[:3]"
      ],
      "metadata": {
        "colab": {
          "base_uri": "https://localhost:8080/"
        },
        "id": "I7UP2rmYQNDc",
        "outputId": "3348a82c-46a2-431f-a263-1e6e9c45c916"
      },
      "execution_count": 29,
      "outputs": [
        {
          "output_type": "execute_result",
          "data": {
            "text/plain": [
              "array([[6],\n",
              "       [9],\n",
              "       [9]], dtype=uint8)"
            ]
          },
          "metadata": {},
          "execution_count": 29
        }
      ]
    },
    {
      "cell_type": "markdown",
      "source": [
        "**Converting Y train to categorical values**\n",
        "\n",
        "by using one hot encoding "
      ],
      "metadata": {
        "id": "GiDm0BufQdwP"
      }
    },
    {
      "cell_type": "code",
      "source": [
        "y_train_categorical = keras.utils.to_categorical(y_train,num_classes=10,dtype='float32')"
      ],
      "metadata": {
        "id": "27QA6EMMQUJj"
      },
      "execution_count": 35,
      "outputs": []
    },
    {
      "cell_type": "code",
      "source": [
        "y_train_categorical[:3]"
      ],
      "metadata": {
        "colab": {
          "base_uri": "https://localhost:8080/"
        },
        "id": "GnSC65g_RQSD",
        "outputId": "0b9957f3-cabe-4cd2-c7f2-1e6a29d74db4"
      },
      "execution_count": 36,
      "outputs": [
        {
          "output_type": "execute_result",
          "data": {
            "text/plain": [
              "array([[0., 0., 0., 0., 0., 0., 1., 0., 0., 0.],\n",
              "       [0., 0., 0., 0., 0., 0., 0., 0., 0., 1.],\n",
              "       [0., 0., 0., 0., 0., 0., 0., 0., 0., 1.]], dtype=float32)"
            ]
          },
          "metadata": {},
          "execution_count": 36
        }
      ]
    },
    {
      "cell_type": "code",
      "source": [
        "y_test_categorical = keras.utils.to_categorical(y_test,num_classes=10,dtype='float32')"
      ],
      "metadata": {
        "id": "LxLYDIU7RTvv"
      },
      "execution_count": 37,
      "outputs": []
    },
    {
      "cell_type": "markdown",
      "source": [
        "**Model Building**"
      ],
      "metadata": {
        "id": "GReT6y6wR_91"
      }
    },
    {
      "cell_type": "markdown",
      "source": [
        "when we have one hot encoded value use categorical_crossentropy \n",
        "\n",
        "\n"
      ],
      "metadata": {
        "id": "L0ex4rsWUVy9"
      }
    },
    {
      "cell_type": "code",
      "source": [
        "model= keras.Sequential([ keras.layers.Flatten(input_shape=(32,32,3)),\n",
        "                         keras.layers.Dense(3000,activation='relu'),\n",
        "                         keras.layers.Dense(100,activation='relu'),\n",
        "                         keras.layers.Dense(1000,activation='sigmoid'),\n",
        "                         keras.layers.Dense(10,activation='sigmoid')\n",
        "    \n",
        "])\n",
        "\n",
        "model.compile(optimizer='SGD',\n",
        "              loss = 'categorical_crossentropy',\n",
        "              metrics=['accuracy'])\n",
        "\n",
        "model.fit(X_train_scaled,y_train_categorical,epochs=58)"
      ],
      "metadata": {
        "colab": {
          "base_uri": "https://localhost:8080/"
        },
        "id": "p-DTGgsgR7TO",
        "outputId": "a2b351e6-ebae-433e-8077-c94b38e3755a"
      },
      "execution_count": 39,
      "outputs": [
        {
          "output_type": "stream",
          "name": "stdout",
          "text": [
            "Epoch 1/58\n",
            "1563/1563 [==============================] - 72s 45ms/step - loss: 2.0649 - accuracy: 0.2326\n",
            "Epoch 2/58\n",
            "1563/1563 [==============================] - 69s 44ms/step - loss: 1.8495 - accuracy: 0.3320\n",
            "Epoch 3/58\n",
            "1563/1563 [==============================] - 70s 45ms/step - loss: 1.7475 - accuracy: 0.3727\n",
            "Epoch 4/58\n",
            "1563/1563 [==============================] - 72s 46ms/step - loss: 1.6696 - accuracy: 0.4034\n",
            "Epoch 5/58\n",
            "1563/1563 [==============================] - 68s 44ms/step - loss: 1.6151 - accuracy: 0.4214\n",
            "Epoch 6/58\n",
            "1563/1563 [==============================] - 65s 42ms/step - loss: 1.5669 - accuracy: 0.4395\n",
            "Epoch 7/58\n",
            "1563/1563 [==============================] - 67s 43ms/step - loss: 1.5261 - accuracy: 0.4537\n",
            "Epoch 8/58\n",
            "1563/1563 [==============================] - 69s 44ms/step - loss: 1.4900 - accuracy: 0.4684\n",
            "Epoch 9/58\n",
            "1563/1563 [==============================] - 68s 43ms/step - loss: 1.4594 - accuracy: 0.4768\n",
            "Epoch 10/58\n",
            "1563/1563 [==============================] - 65s 42ms/step - loss: 1.4305 - accuracy: 0.4874\n",
            "Epoch 11/58\n",
            "1563/1563 [==============================] - 66s 42ms/step - loss: 1.4039 - accuracy: 0.4964\n",
            "Epoch 12/58\n",
            "1563/1563 [==============================] - 68s 43ms/step - loss: 1.3787 - accuracy: 0.5060\n",
            "Epoch 13/58\n",
            "1563/1563 [==============================] - 68s 43ms/step - loss: 1.3530 - accuracy: 0.5159\n",
            "Epoch 14/58\n",
            "1563/1563 [==============================] - 68s 44ms/step - loss: 1.3328 - accuracy: 0.5253\n",
            "Epoch 15/58\n",
            "1563/1563 [==============================] - 67s 43ms/step - loss: 1.3123 - accuracy: 0.5284\n",
            "Epoch 16/58\n",
            "1563/1563 [==============================] - 72s 46ms/step - loss: 1.2903 - accuracy: 0.5399\n",
            "Epoch 17/58\n",
            "1563/1563 [==============================] - 72s 46ms/step - loss: 1.2674 - accuracy: 0.5488\n",
            "Epoch 18/58\n",
            "1563/1563 [==============================] - 73s 46ms/step - loss: 1.2486 - accuracy: 0.5542\n",
            "Epoch 19/58\n",
            "1563/1563 [==============================] - 71s 45ms/step - loss: 1.2298 - accuracy: 0.5621\n",
            "Epoch 20/58\n",
            "1563/1563 [==============================] - 72s 46ms/step - loss: 1.2137 - accuracy: 0.5681\n",
            "Epoch 21/58\n",
            "1563/1563 [==============================] - 70s 44ms/step - loss: 1.1929 - accuracy: 0.5737\n",
            "Epoch 22/58\n",
            "1563/1563 [==============================] - 69s 44ms/step - loss: 1.1705 - accuracy: 0.5848\n",
            "Epoch 23/58\n",
            "1563/1563 [==============================] - 71s 45ms/step - loss: 1.1532 - accuracy: 0.5894\n",
            "Epoch 24/58\n",
            "1563/1563 [==============================] - 75s 48ms/step - loss: 1.1365 - accuracy: 0.5955\n",
            "Epoch 25/58\n",
            "1563/1563 [==============================] - 72s 46ms/step - loss: 1.1213 - accuracy: 0.5999\n",
            "Epoch 26/58\n",
            "1563/1563 [==============================] - 73s 47ms/step - loss: 1.1005 - accuracy: 0.6087\n",
            "Epoch 27/58\n",
            "1563/1563 [==============================] - 72s 46ms/step - loss: 1.0843 - accuracy: 0.6142\n",
            "Epoch 28/58\n",
            "1563/1563 [==============================] - 69s 44ms/step - loss: 1.0615 - accuracy: 0.6211\n",
            "Epoch 29/58\n",
            "1563/1563 [==============================] - 73s 47ms/step - loss: 1.0505 - accuracy: 0.6292\n",
            "Epoch 30/58\n",
            "1563/1563 [==============================] - 73s 47ms/step - loss: 1.0271 - accuracy: 0.6352\n",
            "Epoch 31/58\n",
            "1563/1563 [==============================] - 74s 47ms/step - loss: 1.0107 - accuracy: 0.6394\n",
            "Epoch 32/58\n",
            "1563/1563 [==============================] - 74s 47ms/step - loss: 0.9932 - accuracy: 0.6447\n",
            "Epoch 33/58\n",
            "1563/1563 [==============================] - 75s 48ms/step - loss: 0.9767 - accuracy: 0.6543\n",
            "Epoch 34/58\n",
            "1563/1563 [==============================] - 72s 46ms/step - loss: 0.9558 - accuracy: 0.6583\n",
            "Epoch 35/58\n",
            "1563/1563 [==============================] - 73s 47ms/step - loss: 0.9358 - accuracy: 0.6658\n",
            "Epoch 36/58\n",
            "1563/1563 [==============================] - 69s 44ms/step - loss: 0.9203 - accuracy: 0.6729\n",
            "Epoch 37/58\n",
            "1563/1563 [==============================] - 69s 44ms/step - loss: 0.9060 - accuracy: 0.6789\n",
            "Epoch 38/58\n",
            "1563/1563 [==============================] - 70s 44ms/step - loss: 0.8863 - accuracy: 0.6854\n",
            "Epoch 39/58\n",
            "1563/1563 [==============================] - 72s 46ms/step - loss: 0.8672 - accuracy: 0.6902\n",
            "Epoch 40/58\n",
            "1563/1563 [==============================] - 73s 47ms/step - loss: 0.8495 - accuracy: 0.6978\n",
            "Epoch 41/58\n",
            "1563/1563 [==============================] - 72s 46ms/step - loss: 0.8298 - accuracy: 0.7068\n",
            "Epoch 42/58\n",
            "1563/1563 [==============================] - 72s 46ms/step - loss: 0.8127 - accuracy: 0.7104\n",
            "Epoch 43/58\n",
            "1563/1563 [==============================] - 71s 45ms/step - loss: 0.7957 - accuracy: 0.7174\n",
            "Epoch 44/58\n",
            "1563/1563 [==============================] - 71s 45ms/step - loss: 0.7825 - accuracy: 0.7212\n",
            "Epoch 45/58\n",
            "1563/1563 [==============================] - 74s 47ms/step - loss: 0.7610 - accuracy: 0.7296\n",
            "Epoch 46/58\n",
            "1563/1563 [==============================] - 73s 47ms/step - loss: 0.7464 - accuracy: 0.7368\n",
            "Epoch 47/58\n",
            "1563/1563 [==============================] - 74s 47ms/step - loss: 0.7257 - accuracy: 0.7414\n",
            "Epoch 48/58\n",
            "1563/1563 [==============================] - 75s 48ms/step - loss: 0.7130 - accuracy: 0.7469\n",
            "Epoch 49/58\n",
            "1563/1563 [==============================] - 72s 46ms/step - loss: 0.6916 - accuracy: 0.7545\n",
            "Epoch 50/58\n",
            "1563/1563 [==============================] - 76s 48ms/step - loss: 0.6798 - accuracy: 0.7584\n",
            "Epoch 51/58\n",
            "1563/1563 [==============================] - 73s 47ms/step - loss: 0.6609 - accuracy: 0.7641\n",
            "Epoch 52/58\n",
            "1563/1563 [==============================] - 76s 49ms/step - loss: 0.6442 - accuracy: 0.7727\n",
            "Epoch 53/58\n",
            "1563/1563 [==============================] - 74s 48ms/step - loss: 0.6243 - accuracy: 0.7797\n",
            "Epoch 54/58\n",
            "1563/1563 [==============================] - 75s 48ms/step - loss: 0.6055 - accuracy: 0.7862\n",
            "Epoch 55/58\n",
            "1563/1563 [==============================] - 71s 45ms/step - loss: 0.5942 - accuracy: 0.7897\n",
            "Epoch 56/58\n",
            "1563/1563 [==============================] - 76s 49ms/step - loss: 0.5833 - accuracy: 0.7952\n",
            "Epoch 57/58\n",
            "1563/1563 [==============================] - 73s 47ms/step - loss: 0.5658 - accuracy: 0.7993\n",
            "Epoch 58/58\n",
            "1563/1563 [==============================] - 74s 47ms/step - loss: 0.5461 - accuracy: 0.8072\n"
          ]
        },
        {
          "output_type": "execute_result",
          "data": {
            "text/plain": [
              "<keras.callbacks.History at 0x7fde92720be0>"
            ]
          },
          "metadata": {},
          "execution_count": 39
        }
      ]
    },
    {
      "cell_type": "code",
      "source": [
        "model.predict(X_test_scaled)"
      ],
      "metadata": {
        "colab": {
          "base_uri": "https://localhost:8080/"
        },
        "id": "zn1nTgDKUutE",
        "outputId": "5f20ef16-8b6a-441b-f4ed-30da937dad52"
      },
      "execution_count": 40,
      "outputs": [
        {
          "output_type": "stream",
          "name": "stdout",
          "text": [
            "313/313 [==============================] - 7s 20ms/step\n"
          ]
        },
        {
          "output_type": "execute_result",
          "data": {
            "text/plain": [
              "array([[3.03617001e-01, 2.92994887e-01, 7.89753437e-01, ...,\n",
              "        4.51727072e-04, 8.29770803e-01, 1.81462705e-01],\n",
              "       [3.43317986e-01, 9.99010801e-01, 3.30233499e-02, ...,\n",
              "        3.50696445e-01, 9.99178469e-01, 9.98503685e-01],\n",
              "       [8.84423852e-01, 9.46520507e-01, 1.70732662e-01, ...,\n",
              "        9.15365756e-01, 9.85431314e-01, 9.63496089e-01],\n",
              "       ...,\n",
              "       [2.92839110e-01, 1.49441855e-02, 9.30783510e-01, ...,\n",
              "        5.97500086e-01, 7.15636373e-01, 3.30938399e-01],\n",
              "       [1.24540858e-01, 4.38092416e-03, 8.07982862e-01, ...,\n",
              "        2.72089005e-01, 4.88430448e-02, 9.61694773e-03],\n",
              "       [1.03532888e-01, 1.52916589e-03, 8.01030874e-01, ...,\n",
              "        9.99570370e-01, 2.15209946e-02, 6.76532090e-02]], dtype=float32)"
            ]
          },
          "metadata": {},
          "execution_count": 40
        }
      ]
    },
    {
      "cell_type": "code",
      "source": [
        "classes[y_test[0][0]]"
      ],
      "metadata": {
        "colab": {
          "base_uri": "https://localhost:8080/",
          "height": 35
        },
        "id": "AP2cycF0UkBX",
        "outputId": "8314446b-40f6-41fe-8400-e317a68a38ed"
      },
      "execution_count": 43,
      "outputs": [
        {
          "output_type": "execute_result",
          "data": {
            "text/plain": [
              "'cat'"
            ],
            "application/vnd.google.colaboratory.intrinsic+json": {
              "type": "string"
            }
          },
          "metadata": {},
          "execution_count": 43
        }
      ]
    },
    {
      "cell_type": "code",
      "source": [
        "classes[np.argmax(model.predict(X_test_scaled)[0])]"
      ],
      "metadata": {
        "colab": {
          "base_uri": "https://localhost:8080/",
          "height": 53
        },
        "id": "hrNegQXNmj0R",
        "outputId": "a1c88f3d-6a32-4072-a42d-d02debe90f8f"
      },
      "execution_count": 47,
      "outputs": [
        {
          "output_type": "stream",
          "name": "stdout",
          "text": [
            "313/313 [==============================] - 6s 20ms/step\n"
          ]
        },
        {
          "output_type": "execute_result",
          "data": {
            "text/plain": [
              "'cat'"
            ],
            "application/vnd.google.colaboratory.intrinsic+json": {
              "type": "string"
            }
          },
          "metadata": {},
          "execution_count": 47
        }
      ]
    },
    {
      "cell_type": "code",
      "source": [
        "classes[y_test[1][0]]"
      ],
      "metadata": {
        "colab": {
          "base_uri": "https://localhost:8080/",
          "height": 35
        },
        "id": "HpitKN16nC5Y",
        "outputId": "beabf1e8-df5a-473e-c839-cda232a246cc"
      },
      "execution_count": 48,
      "outputs": [
        {
          "output_type": "execute_result",
          "data": {
            "text/plain": [
              "'ship'"
            ],
            "application/vnd.google.colaboratory.intrinsic+json": {
              "type": "string"
            }
          },
          "metadata": {},
          "execution_count": 48
        }
      ]
    },
    {
      "cell_type": "code",
      "source": [
        "classes[np.argmax(model.predict(X_test_scaled)[1])]"
      ],
      "metadata": {
        "colab": {
          "base_uri": "https://localhost:8080/",
          "height": 53
        },
        "id": "EMpzzU4knivt",
        "outputId": "50082051-dbc3-446a-bf41-9f3c4bc75dd5"
      },
      "execution_count": 49,
      "outputs": [
        {
          "output_type": "stream",
          "name": "stdout",
          "text": [
            "313/313 [==============================] - 7s 24ms/step\n"
          ]
        },
        {
          "output_type": "execute_result",
          "data": {
            "text/plain": [
              "'ship'"
            ],
            "application/vnd.google.colaboratory.intrinsic+json": {
              "type": "string"
            }
          },
          "metadata": {},
          "execution_count": 49
        }
      ]
    },
    {
      "cell_type": "markdown",
      "source": [
        "Checking overall accuracy of the model"
      ],
      "metadata": {
        "id": "To_9UrjanuOZ"
      }
    },
    {
      "cell_type": "code",
      "source": [
        "model.evaluate(X_test_scaled,y_test_categorical)"
      ],
      "metadata": {
        "colab": {
          "base_uri": "https://localhost:8080/"
        },
        "id": "IDJ5enAcnmXG",
        "outputId": "d9eb8b71-7ae6-4c2f-e125-5b356d63c372"
      },
      "execution_count": 50,
      "outputs": [
        {
          "output_type": "stream",
          "name": "stdout",
          "text": [
            "313/313 [==============================] - 7s 22ms/step - loss: 1.7238 - accuracy: 0.5186\n"
          ]
        },
        {
          "output_type": "execute_result",
          "data": {
            "text/plain": [
              "[1.7237799167633057, 0.5185999870300293]"
            ]
          },
          "metadata": {},
          "execution_count": 50
        }
      ]
    },
    {
      "cell_type": "code",
      "source": [
        "def get_model():\n",
        "  model= keras.Sequential([ keras.layers.Flatten(input_shape=(32,32,3)),\n",
        "                         keras.layers.Dense(3000,activation='relu'),\n",
        "                         keras.layers.Dense(100,activation='relu'),\n",
        "                         keras.layers.Dense(1000,activation='sigmoid'),\n",
        "                         keras.layers.Dense(10,activation='sigmoid')\n",
        "    \n",
        "      ])\n",
        "\n",
        "  model.compile(optimizer='SGD',\n",
        "              loss = 'categorical_crossentropy',\n",
        "              metrics=['accuracy'])\n",
        "  return model\n"
      ],
      "metadata": {
        "id": "EWKwb_wZoCug"
      },
      "execution_count": 51,
      "outputs": []
    },
    {
      "cell_type": "code",
      "source": [
        "with tf.device('/CPU:0'):\n",
        "     cpu_model= get_model()\n",
        "     cpu_model.fit(X_train_scaled,y_train_categorical,epochs=1)"
      ],
      "metadata": {
        "colab": {
          "base_uri": "https://localhost:8080/"
        },
        "id": "YBKVLku7o0Cr",
        "outputId": "ad6c898d-f722-4516-ccaa-6e8cd2d4c77f"
      },
      "execution_count": 54,
      "outputs": [
        {
          "output_type": "stream",
          "name": "stdout",
          "text": [
            "1563/1563 [==============================] - 71s 45ms/step - loss: 2.0611 - accuracy: 0.2401\n"
          ]
        }
      ]
    },
    {
      "cell_type": "code",
      "source": [
        "with tf.device('/GPU:0'):\n",
        "     cpu_model= get_model()\n",
        "     cpu_model.fit(X_train_scaled,y_train_categorical,epochs=1)"
      ],
      "metadata": {
        "colab": {
          "base_uri": "https://localhost:8080/"
        },
        "id": "DM7ha025pQSS",
        "outputId": "b74bae9f-17da-4645-c825-672011e47d65"
      },
      "execution_count": 55,
      "outputs": [
        {
          "output_type": "stream",
          "name": "stdout",
          "text": [
            "1563/1563 [==============================] - 73s 46ms/step - loss: 2.0665 - accuracy: 0.2345\n"
          ]
        }
      ]
    },
    {
      "cell_type": "code",
      "source": [],
      "metadata": {
        "id": "aBtmzgCGqF61"
      },
      "execution_count": null,
      "outputs": []
    }
  ]
}